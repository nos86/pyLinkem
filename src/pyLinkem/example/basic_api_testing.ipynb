{
 "cells": [
  {
   "cell_type": "code",
   "execution_count": 1,
   "metadata": {},
   "outputs": [
    {
     "name": "stderr",
     "output_type": "stream",
     "text": [
      "/Users/nos86/Library/Python/3.7/lib/python/site-packages/ipykernel_launcher.py:1: DeprecationWarning: the imp module is deprecated in favour of importlib; see the module's documentation for alternative uses\n",
      "  \"\"\"Entry point for launching an IPython kernel.\n"
     ]
    }
   ],
   "source": [
    "from imp import reload\n",
    "import sys\n",
    "sys.path.append('../')\n",
    "\n",
    "import logging\n",
    "logging.basicConfig(level=logging.DEBUG)"
   ]
  },
  {
   "cell_type": "code",
   "execution_count": 3,
   "metadata": {},
   "outputs": [],
   "source": [
    "import router\n"
   ]
  },
  {
   "cell_type": "code",
   "execution_count": 53,
   "metadata": {},
   "outputs": [
    {
     "name": "stderr",
     "output_type": "stream",
     "text": [
      "DEBUG:urllib3.connectionpool:Starting new HTTPS connection (1): 192.168.102.1:443\n",
      "/Users/nos86/Library/Python/3.7/lib/python/site-packages/urllib3/connectionpool.py:1050: InsecureRequestWarning: Unverified HTTPS request is being made to host '192.168.102.1'. Adding certificate verification is strongly advised. See: https://urllib3.readthedocs.io/en/1.26.x/advanced-usage.html#ssl-warnings\n",
      "  InsecureRequestWarning,\n",
      "DEBUG:urllib3.connectionpool:https://192.168.102.1:443 \"POST /cgi-bin/sysconf.cgi?page=login.asp&action=login HTTP/1.1\" 302 40\n",
      "/Users/nos86/Library/Python/3.7/lib/python/site-packages/urllib3/connectionpool.py:1050: InsecureRequestWarning: Unverified HTTPS request is being made to host '192.168.102.1'. Adding certificate verification is strongly advised. See: https://urllib3.readthedocs.io/en/1.26.x/advanced-usage.html#ssl-warnings\n",
      "  InsecureRequestWarning,\n",
      "DEBUG:urllib3.connectionpool:https://192.168.102.1:443 \"GET /index.asp?timestamp=1656175812 HTTP/1.1\" 200 11047\n",
      "/Users/nos86/Library/Python/3.7/lib/python/site-packages/urllib3/connectionpool.py:1050: InsecureRequestWarning: Unverified HTTPS request is being made to host '192.168.102.1'. Adding certificate verification is strongly advised. See: https://urllib3.readthedocs.io/en/1.26.x/advanced-usage.html#ssl-warnings\n",
      "  InsecureRequestWarning,\n",
      "DEBUG:urllib3.connectionpool:https://192.168.102.1:443 \"GET /cgi-bin/sysconf.cgi?page=control_panel_about.asp&action=request HTTP/1.1\" 200 4703\n"
     ]
    }
   ],
   "source": [
    "obj = reload(router).LinkemRouter(\"192.168.102.1\", \"guest\", \"linkem123\")"
   ]
  },
  {
   "cell_type": "code",
   "execution_count": 54,
   "metadata": {},
   "outputs": [
    {
     "name": "stderr",
     "output_type": "stream",
     "text": [
      "/Users/nos86/Library/Python/3.7/lib/python/site-packages/urllib3/connectionpool.py:1050: InsecureRequestWarning: Unverified HTTPS request is being made to host '192.168.102.1'. Adding certificate verification is strongly advised. See: https://urllib3.readthedocs.io/en/1.26.x/advanced-usage.html#ssl-warnings\n",
      "  InsecureRequestWarning,\n",
      "DEBUG:urllib3.connectionpool:https://192.168.102.1:443 \"GET /cgi-bin/sysconf.cgi?page=ajax.asp&action=status_system HTTP/1.1\" 200 919\n"
     ]
    },
    {
     "data": {
      "text/plain": [
       "{'cpu': 11.4,\n",
       " 'mem': 32.96,\n",
       " 'firewall': False,\n",
       " 'uptime': 167393,\n",
       " 'last_reboot_reason': 'User Forced'}"
      ]
     },
     "execution_count": 54,
     "metadata": {},
     "output_type": "execute_result"
    }
   ],
   "source": [
    "obj.getDeviceStatus()"
   ]
  },
  {
   "cell_type": "code",
   "execution_count": 45,
   "metadata": {},
   "outputs": [
    {
     "name": "stderr",
     "output_type": "stream",
     "text": [
      "DEBUG:urllib3.connectionpool:Resetting dropped connection: 192.168.102.1\n",
      "/Users/nos86/Library/Python/3.7/lib/python/site-packages/urllib3/connectionpool.py:1050: InsecureRequestWarning: Unverified HTTPS request is being made to host '192.168.102.1'. Adding certificate verification is strongly advised. See: https://urllib3.readthedocs.io/en/1.26.x/advanced-usage.html#ssl-warnings\n",
      "  InsecureRequestWarning,\n",
      "DEBUG:urllib3.connectionpool:https://192.168.102.1:443 \"GET /cgi-bin/sysconf.cgi?page=ajax.asp&action=status_system HTTP/1.1\" 200 916\n"
     ]
    }
   ],
   "source": [
    "q = obj.debug(page=\"ajax.asp\", action=\"status_system\").content.decode()"
   ]
  },
  {
   "cell_type": "code",
   "execution_count": 46,
   "metadata": {},
   "outputs": [],
   "source": [
    "import json\n"
   ]
  },
  {
   "cell_type": "code",
   "execution_count": 52,
   "metadata": {},
   "outputs": [
    {
     "data": {
      "text/plain": [
       "{'success': '1',\n",
       " 'cpu_current_usage': '13.00',\n",
       " 'cpu_max': '61.89,2021 June 09 Wednesday 02:01:14.',\n",
       " 'cpu_min': ' 3.81,2022 June 25 Saturday 05:06:11.',\n",
       " 'mem_current_usage': '32.98',\n",
       " 'mem_max': '37.50,2022 June 25 Saturday 09:12:58.',\n",
       " 'mem_min': '30.89,2021 June 09 Wednesday 02:01:09.',\n",
       " 'tf': '43.824,3798682409,18899702,N/A,1954.784,31808901849,27793868,N/A,N/A,N/A,N/A',\n",
       " 'ul_max': '6559.192,2022 June 24 Friday 19:56:48.',\n",
       " 'ul_min': '0.000,2022 June 25 Saturday 17:33:38.',\n",
       " 'dl_max': '80632.872,2022 June 24 Friday 03:56:55.',\n",
       " 'dl_min': '0.000,2022 June 25 Saturday 17:33:08.',\n",
       " 'tx_usage_d': '10.331213000 Gbits',\n",
       " 'tx_usage_w': '30.389554184 Gbits',\n",
       " 'tx_usage_m': '30.389554184 Gbits',\n",
       " 'rx_usage_d': '104.191360 Gbits',\n",
       " 'rx_usage_w': '254.474995416 Gbits',\n",
       " 'rx_usage_m': '254.474995416 Gbits',\n",
       " 'firewall': 'OFF',\n",
       " 'times': '1,22,22',\n",
       " 'uptime_secs': '166936',\n",
       " 'ui_reboot_reason': 'User Forced'}"
      ]
     },
     "execution_count": 52,
     "metadata": {},
     "output_type": "execute_result"
    }
   ],
   "source": [
    "json.loads(q.replace(\"'\", '\"'))"
   ]
  },
  {
   "cell_type": "code",
   "execution_count": 26,
   "metadata": {},
   "outputs": [
    {
     "data": {
      "text/plain": [
       "['',\n",
       " 'LTE CPE',\n",
       " 'WLTGG-127',\n",
       " 'V00',\n",
       " 'GMK201105007059',\n",
       " 'Linkem',\n",
       " '01.02.01.028',\n",
       " '01.01.02.144',\n",
       " 'U-Boot 2015.10-rc2 - 1.1.7 ',\n",
       " 'Jun 9 13:24:11 CST 2021',\n",
       " '2018/07/30-16:23:01',\n",
       " '42,43',\n",
       " '353345095222537',\n",
       " '222380001469897',\n",
       " '',\n",
       " '89393800000014698976',\n",
       " '0.3.3.10']"
      ]
     },
     "execution_count": 26,
     "metadata": {},
     "output_type": "execute_result"
    }
   ],
   "source": [
    "list(filter( lambda x: x.startswith('var multipleParameters'), q.decode().split('\\n')))[0].split('\"')[1].split('\\t')"
   ]
  },
  {
   "cell_type": "code",
   "execution_count": 16,
   "metadata": {},
   "outputs": [
    {
     "name": "stdout",
     "output_type": "stream",
     "text": [
      "Help on method post in module requests.sessions:\n",
      "\n",
      "post(url, data=None, json=None, **kwargs) method of requests.sessions.Session instance\n",
      "    Sends a POST request. Returns :class:`Response` object.\n",
      "    \n",
      "    :param url: URL for the new :class:`Request` object.\n",
      "    :param data: (optional) Dictionary, list of tuples, bytes, or file-like\n",
      "        object to send in the body of the :class:`Request`.\n",
      "    :param json: (optional) json to send in the body of the :class:`Request`.\n",
      "    :param \\*\\*kwargs: Optional arguments that ``request`` takes.\n",
      "    :rtype: requests.Response\n",
      "\n"
     ]
    }
   ],
   "source": []
  },
  {
   "cell_type": "code",
   "execution_count": null,
   "metadata": {},
   "outputs": [],
   "source": []
  }
 ],
 "metadata": {
  "kernelspec": {
   "display_name": "Python 3.9.2 64-bit",
   "language": "python",
   "name": "python3"
  },
  "language_info": {
   "codemirror_mode": {
    "name": "ipython",
    "version": 3
   },
   "file_extension": ".py",
   "mimetype": "text/x-python",
   "name": "python",
   "nbconvert_exporter": "python",
   "pygments_lexer": "ipython3",
   "version": "3.7.3"
  },
  "orig_nbformat": 4,
  "vscode": {
   "interpreter": {
    "hash": "31f2aee4e71d21fbe5cf8b01ff0e069b9275f58929596ceb00d14d90e3e16cd6"
   }
  }
 },
 "nbformat": 4,
 "nbformat_minor": 2
}
